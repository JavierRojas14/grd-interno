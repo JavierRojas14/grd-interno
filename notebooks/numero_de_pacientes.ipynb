{
 "cells": [
  {
   "cell_type": "code",
   "execution_count": null,
   "metadata": {},
   "outputs": [],
   "source": [
    "import pandas as pd\n",
    "import numpy as np\n",
    "\n",
    "import matplotlib.pyplot as plt\n",
    "from matplotlib_venn import venn2\n",
    "import seaborn as sns\n",
    "\n",
    "sns.set_style()\n",
    "plt.rcParams[\"figure.figsize\"] = (12, 6)"
   ]
  },
  {
   "cell_type": "code",
   "execution_count": null,
   "metadata": {},
   "outputs": [],
   "source": [
    "# Lee egresos hospitalarios y consultas ambulatorias\n",
    "df_egresos = pd.read_csv(\"../data/processed/df_procesada.csv\")\n",
    "df_consultas = pd.read_csv(\n",
    "    \"../data/external/datos_limpios_diagnosticos.csv\", encoding=\"latin-1\", sep=\";\"\n",
    ")"
   ]
  },
  {
   "cell_type": "markdown",
   "metadata": {},
   "source": [
    "## Obtención de pacientes ambulatorios que tuvieron una hospitalización"
   ]
  },
  {
   "cell_type": "code",
   "execution_count": null,
   "metadata": {},
   "outputs": [],
   "source": [
    "# Obtiene los pacientes de ambulatorio, que hayan aparecido alguna vez en hospitalizados\n",
    "pacientes_amb_con_hosp = df_consultas.merge(\n",
    "    df_egresos, how=\"left\", left_on=[\"id_paciente\", \"ano\"], right_on=[\"RUT\", \"ANO_EGR\"]\n",
    ")\n",
    "\n",
    "# Calcula la cantidad de pacientes ambulatorios totales, y los que aparecieron en hospitalizados\n",
    "conteo_de_pacientes_ambulatorios_con_hosp = pacientes_amb_con_hosp.groupby(\n",
    "    [\"ano\", \"nombre_especialidad\"]\n",
    ").agg(\n",
    "    n_pacientes_ambulatorios=(\"id_paciente\", \"nunique\"),\n",
    "    n_pacientes_que_estuvieron_en_hosp=(\"RUT\", \"nunique\"),\n",
    ")"
   ]
  },
  {
   "cell_type": "code",
   "execution_count": null,
   "metadata": {},
   "outputs": [],
   "source": []
  }
 ],
 "metadata": {
  "language_info": {
   "name": "python"
  }
 },
 "nbformat": 4,
 "nbformat_minor": 2
}
