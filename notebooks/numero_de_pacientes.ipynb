{
 "cells": [
  {
   "cell_type": "code",
   "execution_count": 1,
   "metadata": {},
   "outputs": [],
   "source": [
    "import pandas as pd\n",
    "import numpy as np\n",
    "\n",
    "import matplotlib.pyplot as plt\n",
    "from matplotlib_venn import venn2\n",
    "import seaborn as sns\n",
    "\n",
    "sns.set_style()\n",
    "plt.rcParams[\"figure.figsize\"] = (12, 6)"
   ]
  },
  {
   "cell_type": "code",
   "execution_count": 2,
   "metadata": {},
   "outputs": [
    {
     "name": "stderr",
     "output_type": "stream",
     "text": [
      "C:\\Users\\ppizarro\\AppData\\Local\\Temp\\ipykernel_7580\\1883192389.py:2: DtypeWarning: Columns (18,80,93,94,95,97,99,100,101,144,152,153,156,157,158) have mixed types. Specify dtype option on import or set low_memory=False.\n",
      "  df_egresos = pd.read_csv(\"../data/processed/df_procesada.csv\")\n"
     ]
    }
   ],
   "source": [
    "# Lee egresos hospitalarios y consultas ambulatorias\n",
    "df_egresos = pd.read_csv(\"../data/processed/df_procesada.csv\")\n",
    "df_consultas = pd.read_csv(\n",
    "    \"../data/external/datos_limpios_diagnosticos.csv\", encoding=\"latin-1\", sep=\";\"\n",
    ")"
   ]
  },
  {
   "cell_type": "markdown",
   "metadata": {},
   "source": [
    "## Obtención de pacientes ambulatorios que tuvieron una hospitalización"
   ]
  },
  {
   "cell_type": "code",
   "execution_count": 4,
   "metadata": {},
   "outputs": [],
   "source": [
    "# Obtiene los pacientes de ambulatorio, que hayan aparecido alguna vez en hospitalizados\n",
    "pacientes_amb_con_hosp = df_consultas.merge(\n",
    "    df_egresos, how=\"left\", left_on=\"id_paciente\", right_on=\"RUT\"\n",
    ")\n",
    "\n",
    "# Calcula la cantidad de pacientes ambulatorios totales, y los que aparecieron en hospitalizados\n",
    "conteo_de_pacientes_ambulatorios_con_hosp = pacientes_amb_con_hosp.groupby(\n",
    "    \"nombre_especialidad\"\n",
    ").agg(\n",
    "    n_pacientes_ambulatorios=(\"id_paciente\", \"nunique\"),\n",
    "    n_pacientes_que_estuvieron_en_hosp=(\"RUT\", \"nunique\"),\n",
    ")"
   ]
  },
  {
   "cell_type": "markdown",
   "metadata": {},
   "source": [
    "## Obtención de pacientes hospitalizados que tuvieron una consulta"
   ]
  },
  {
   "cell_type": "code",
   "execution_count": 5,
   "metadata": {},
   "outputs": [],
   "source": [
    "# Une los pacientes hospitalizados con los ambulatorios\n",
    "pacientes_hosp_con_amb = df_egresos.merge(\n",
    "    df_consultas, how=\"left\", left_on=\"RUT\", right_on=\"id_paciente\"\n",
    ")\n",
    "\n",
    "# Realiza el conteo de pacientes por especialidad\n",
    "conteo_de_pacientes_hosp_con_amb = pacientes_hosp_con_amb.groupby(\"ESPEC\").agg(\n",
    "    n_pacientes_hospitalizados=(\"RUT\", \"nunique\"),\n",
    "    n_pacientes_hosp_con_consulta=(\"id_paciente\", \"nunique\"),\n",
    ")"
   ]
  },
  {
   "cell_type": "markdown",
   "metadata": {},
   "source": [
    "## Obtencion de pacientes hospitalizados y ambulatorios por diagnostico"
   ]
  },
  {
   "cell_type": "code",
   "execution_count": 6,
   "metadata": {},
   "outputs": [],
   "source": [
    "# Merge the outpatient and inpatient dataframes by diagnostic code and patient ID\n",
    "pacientes_amb_y_hosp_por_diagnostico = df_consultas.merge(\n",
    "    df_egresos,\n",
    "    how=\"outer\",\n",
    "    left_on=[\"codigo_diagnostico\", \"id_paciente\"],\n",
    "    right_on=[\"DIAG1\", \"RUT\"],\n",
    ")\n",
    "\n",
    "# Consolidate diagnostic codes, prioritizing inpatient diagnostics\n",
    "pacientes_amb_y_hosp_por_diagnostico[\"diagnostico_consolidado\"] = (\n",
    "    pacientes_amb_y_hosp_por_diagnostico[\"DIAG1\"].combine_first(\n",
    "        pacientes_amb_y_hosp_por_diagnostico[\"codigo_diagnostico\"]\n",
    "    )\n",
    ")\n",
    "\n",
    "# Count unique outpatients and inpatients per diagnostic code\n",
    "pacientes_amb_y_hosp_unicos_por_diagnostico = pacientes_amb_y_hosp_por_diagnostico.groupby(\n",
    "    \"diagnostico_consolidado\"\n",
    ").agg(\n",
    "    pacientes_ambulatorios=(\"id_paciente\", \"nunique\"), pacientes_hospitalizados=(\"RUT\", \"nunique\")\n",
    ")\n",
    "\n",
    "# Identify patients with both a consultation and hospitalization\n",
    "pacientes_con_consulta_y_hosp_por_diagnostico = pacientes_amb_y_hosp_por_diagnostico[\n",
    "    pacientes_amb_y_hosp_por_diagnostico[\"id_paciente\"].notna()\n",
    "    & pacientes_amb_y_hosp_por_diagnostico[\"RUT\"].notna()\n",
    "]\n",
    "\n",
    "# Count unique patients with both a consultation and hospitalization per diagnostic code\n",
    "pacientes_con_consulta_y_hosp_por_diagnostico = (\n",
    "    pacientes_con_consulta_y_hosp_por_diagnostico.groupby(\"diagnostico_consolidado\").agg(\n",
    "        pacientes_con_consulta_y_hosp=(\"id_paciente\", \"nunique\")\n",
    "    )\n",
    ")\n",
    "\n",
    "# Merge the unique outpatient/inpatient counts with the counts of patients with both\n",
    "resumen_pacientes_hosp_y_amb = pacientes_amb_y_hosp_unicos_por_diagnostico.merge(\n",
    "    pacientes_con_consulta_y_hosp_por_diagnostico, how=\"left\", left_index=True, right_index=True\n",
    ").fillna(0)\n",
    "\n",
    "# Calculate the total number of unique patients per diagnostic code\n",
    "resumen_pacientes_hosp_y_amb[\"total_pacientes\"] = (\n",
    "    resumen_pacientes_hosp_y_amb[\"pacientes_ambulatorios\"]\n",
    "    + resumen_pacientes_hosp_y_amb[\"pacientes_hospitalizados\"]\n",
    "    - resumen_pacientes_hosp_y_amb[\"pacientes_con_consulta_y_hosp\"]\n",
    ")"
   ]
  }
 ],
 "metadata": {
  "kernelspec": {
   "display_name": "grd-fonasa",
   "language": "python",
   "name": "python3"
  },
  "language_info": {
   "codemirror_mode": {
    "name": "ipython",
    "version": 3
   },
   "file_extension": ".py",
   "mimetype": "text/x-python",
   "name": "python",
   "nbconvert_exporter": "python",
   "pygments_lexer": "ipython3",
   "version": "3.12.3"
  }
 },
 "nbformat": 4,
 "nbformat_minor": 2
}
