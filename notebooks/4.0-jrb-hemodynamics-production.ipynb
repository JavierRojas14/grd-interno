{
 "cells": [
  {
   "cell_type": "code",
   "execution_count": null,
   "metadata": {},
   "outputs": [],
   "source": [
    "import sys\n",
    "import os\n",
    "\n",
    "project_root = os.path.abspath('..')\n",
    "if project_root not in sys.path:\n",
    "    sys.path.append(project_root)\n",
    " \n",
    "%load_ext autoreload\n",
    "%autoreload 2"
   ]
  },
  {
   "cell_type": "code",
   "execution_count": null,
   "metadata": {},
   "outputs": [],
   "source": [
    "import pandas as pd\n",
    "import numpy as np\n",
    "\n",
    "import matplotlib.pyplot as plt\n",
    "import seaborn as sns\n",
    "\n",
    "sns.set_theme(palette='pastel')\n",
    "plt.rcParams['figure.figsize'] = (12, 6)\n",
    "pd.set_option('display.max_columns', None)"
   ]
  },
  {
   "cell_type": "code",
   "execution_count": null,
   "metadata": {},
   "outputs": [],
   "source": [
    "# Lee la base de datos\n",
    "df = pd.read_csv(\"../data/processed/grd_hmd.csv\")\n",
    "df[\"fech_alta\"] = pd.to_datetime(df[\"fech_alta\"], dayfirst=True)\n",
    "df = df.sort_values(\"fech_alta\")\n",
    "\n",
    "# Separa en actividad hospitalaria y Hemodinamia\n",
    "df_egresos = df.query(\"tipo_actividad_tipo == 'H'\").copy()\n",
    "df_hmd = df.query(\"tipo_actividad_tipo == 'A'\").copy()"
   ]
  },
  {
   "cell_type": "code",
   "execution_count": null,
   "metadata": {},
   "outputs": [],
   "source": [
    "# Hace recuento de diagnostico\n",
    "conteo_diagnostico = (\n",
    "    df_hmd.groupby(\"ano_egreso\")[\"diag_01_principal_coddes\"].value_counts().reset_index()\n",
    ")\n",
    "# Hace recuento de procedimientos\n",
    "conteo_procedimientos = (\n",
    "    df_hmd.groupby(\"ano_egreso\")[\"proced_01_principal_coddes\"].value_counts().reset_index()\n",
    ")"
   ]
  },
  {
   "cell_type": "code",
   "execution_count": null,
   "metadata": {},
   "outputs": [],
   "source": [
    "conteo_diagnostico"
   ]
  },
  {
   "cell_type": "code",
   "execution_count": null,
   "metadata": {},
   "outputs": [],
   "source": []
  }
 ],
 "metadata": {
  "language_info": {
   "name": "python"
  }
 },
 "nbformat": 4,
 "nbformat_minor": 2
}
