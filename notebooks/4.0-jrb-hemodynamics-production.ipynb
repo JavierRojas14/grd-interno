{
 "cells": [
  {
   "cell_type": "code",
   "execution_count": 1,
   "metadata": {},
   "outputs": [],
   "source": [
    "import sys\n",
    "import os\n",
    "\n",
    "project_root = os.path.abspath('..')\n",
    "if project_root not in sys.path:\n",
    "    sys.path.append(project_root)\n",
    " \n",
    "%load_ext autoreload\n",
    "%autoreload 2"
   ]
  },
  {
   "cell_type": "code",
   "execution_count": 2,
   "metadata": {},
   "outputs": [],
   "source": [
    "import pandas as pd\n",
    "import numpy as np\n",
    "\n",
    "import matplotlib.pyplot as plt\n",
    "import seaborn as sns\n",
    "\n",
    "sns.set_theme(palette='pastel')\n",
    "plt.rcParams['figure.figsize'] = (12, 6)\n",
    "pd.set_option('display.max_columns', None)"
   ]
  },
  {
   "cell_type": "code",
   "execution_count": 35,
   "metadata": {},
   "outputs": [
    {
     "name": "stderr",
     "output_type": "stream",
     "text": [
      "C:\\Users\\javie\\AppData\\Local\\Temp\\ipykernel_31568\\1780020483.py:2: DtypeWarning: Columns (87,88,89,90,91,92,93,94,95,96,97,98,99,100,101,102,103,104,105,106,107,108,109,110,111,112,113,114,115,116,117,118,119,120,161) have mixed types. Specify dtype option on import or set low_memory=False.\n",
      "  df = pd.read_csv(\"../data/processed/grd_hmd.csv\")\n"
     ]
    }
   ],
   "source": [
    "# Lee la base de datos\n",
    "df = pd.read_csv(\"../data/processed/grd_hmd.csv\")\n",
    "df[\"fech_alta\"] = pd.to_datetime(df[\"fech_alta\"])\n",
    "\n",
    "# Separa en actividad hospitalaria y Hemodinamia\n",
    "df_egresos = df.query(\"tipo_actividad_tipo == 'H'\").copy()\n",
    "df_hmd = df.query(\"tipo_actividad_tipo == 'A'\").copy()"
   ]
  },
  {
   "cell_type": "code",
   "execution_count": 43,
   "metadata": {},
   "outputs": [
    {
     "data": {
      "text/plain": [
       "ano_egreso  diag_01_principal_coddes                                                \n",
       "2015        I25.1 - Enfermedad aterosclerótica del corazón                              313\n",
       "            Z13.6 - Examen de pesquisa especial para trastornos cardiovasculares        250\n",
       "            I21.0 - Infarto transmural agudo del miocardio de la pared anterior         128\n",
       "            I21.1 - Infarto transmural agudo del miocardio de la pared inferior          95\n",
       "            Z09.0 - Examen de seguimiento consecutivo a cirugía por otras afecciones     65\n",
       "                                                                                       ... \n",
       "2023        I20.0 - Angina inestable                                                     45\n",
       "            I21.1 - Infarto transmural agudo del miocardio de la pared inferior          42\n",
       "            I27.2 - Otras hipertensiones pulmonares secundarias                          38\n",
       "            I35.0 - Estenosis (de la válvula) aórtica                                    38\n",
       "            I49.5 - Síndrome del seno enfermo                                            34\n",
       "Name: count, Length: 90, dtype: int64"
      ]
     },
     "execution_count": 43,
     "metadata": {},
     "output_type": "execute_result"
    }
   ],
   "source": [
    "df_hmd.groupby(\"ano_egreso\")[\"diag_01_principal_coddes\"].value_counts().groupby(\"ano_egreso\").head(10)"
   ]
  },
  {
   "cell_type": "code",
   "execution_count": null,
   "metadata": {},
   "outputs": [],
   "source": []
  }
 ],
 "metadata": {
  "kernelspec": {
   "display_name": "grd-interno",
   "language": "python",
   "name": "python3"
  },
  "language_info": {
   "codemirror_mode": {
    "name": "ipython",
    "version": 3
   },
   "file_extension": ".py",
   "mimetype": "text/x-python",
   "name": "python",
   "nbconvert_exporter": "python",
   "pygments_lexer": "ipython3",
   "version": "3.12.3"
  }
 },
 "nbformat": 4,
 "nbformat_minor": 2
}
