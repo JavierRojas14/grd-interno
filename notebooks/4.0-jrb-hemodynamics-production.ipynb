{
 "cells": [
  {
   "cell_type": "code",
   "execution_count": null,
   "metadata": {},
   "outputs": [],
   "source": [
    "import sys\n",
    "import os\n",
    "\n",
    "project_root = os.path.abspath('..')\n",
    "if project_root not in sys.path:\n",
    "    sys.path.append(project_root)\n",
    " \n",
    "%load_ext autoreload\n",
    "%autoreload 2"
   ]
  },
  {
   "cell_type": "code",
   "execution_count": null,
   "metadata": {},
   "outputs": [],
   "source": [
    "import pandas as pd\n",
    "import numpy as np\n",
    "\n",
    "import matplotlib.pyplot as plt\n",
    "import seaborn as sns\n",
    "\n",
    "sns.set_theme(palette='pastel')\n",
    "plt.rcParams['figure.figsize'] = (12, 6)\n",
    "pd.set_option('display.max_columns', None)"
   ]
  },
  {
   "cell_type": "code",
   "execution_count": null,
   "metadata": {},
   "outputs": [],
   "source": [
    "# Lee la base de datos\n",
    "df = pd.read_csv(\"../data/processed/grd_hmd.csv\")\n",
    "df[\"fech_alta\"] = pd.to_datetime(df[\"fech_alta\"], dayfirst=True)\n",
    "df = df.sort_values(\"fech_alta\")\n",
    "\n",
    "# Separa en actividad hospitalaria y Hemodinamia\n",
    "df_egresos = df.query(\"tipo_actividad_tipo == 'H'\").copy()\n",
    "df_hmd = df.query(\"tipo_actividad_tipo == 'A'\").copy()"
   ]
  },
  {
   "cell_type": "code",
   "execution_count": null,
   "metadata": {},
   "outputs": [],
   "source": [
    "# Hace recuento de diagnostico\n",
    "conteo_diagnostico = (\n",
    "    df_hmd.groupby(\"ano_egreso\")[\"diag_01_principal_coddes\"].value_counts().reset_index()\n",
    ")\n",
    "# Hace recuento de procedimientos\n",
    "conteo_procedimientos = (\n",
    "    df_hmd.groupby(\"ano_egreso\")[\"proced_01_principal_coddes\"].value_counts().reset_index()\n",
    ")"
   ]
  },
  {
   "cell_type": "code",
   "execution_count": null,
   "metadata": {},
   "outputs": [],
   "source": [
    "conteo_diagnostico.to_excel(\"../data/interim/produccion_diagnosticos_hmd.xlsx\")"
   ]
  },
  {
   "cell_type": "markdown",
   "metadata": {},
   "source": [
    "# Obtener trazadoras de Electrofisiología"
   ]
  },
  {
   "cell_type": "markdown",
   "metadata": {},
   "source": [
    "Una vez se obtuvo la producción de HMD, se observó la producción por diagnóstico en el año 2019 y se clasificó cada uno de ellos como Terapeutico (T), Diagnóstico (D) o de Electrofisiología (E). Esta claificación se guardó en el archivo externo \"clasificacion_diags_hmd\". Para identificar las trazadoras de Electrofisiología, se filtraron solamente las que tuvieron una clasificación de tal especialidad, y se seleccionaron los 10 diagnósticos más productivos."
   ]
  },
  {
   "cell_type": "code",
   "execution_count": null,
   "metadata": {},
   "outputs": [],
   "source": [
    "# Lee clasificacion de diagnosticos de HMD, y selecciona el top 10 de Electrofisiologia\n",
    "clasificacion_diags = pd.read_csv(\"../data/external/clasificacion_diags_hmd.csv\")\n",
    "trazadoras_electrofisiologia = (\n",
    "    clasificacion_diags.query(\"TD == 'E'\")\n",
    "    .sort_values(\"count\", ascending=False)\n",
    "    .head(10)\n",
    ")\n",
    "\n",
    "display(trazadoras_electrofisiologia)"
   ]
  },
  {
   "cell_type": "markdown",
   "metadata": {},
   "source": [
    "Finalmente, se eliminaron los diagnósticos T82.5 y Z45.0, ya que es muy difícil encontrar su incidencia."
   ]
  },
  {
   "cell_type": "code",
   "execution_count": null,
   "metadata": {},
   "outputs": [],
   "source": [
    "# Aisla los diagnosticos trazadores de HMD\n",
    "diagnosticos_electr = list(trazadoras_electrofisiologia[\"diag_01_principal_coddes\"])\n",
    "diagnosticos_hmd = diagnosticos_electr + [\n",
    "    \"I25.1 - Enfermedad aterosclerótica del corazón\",\n",
    "    \"I48.9 - Fibrilacion y flutter auricular, no especificado\",\n",
    "    \"I44.7 - Bloqueo de rama izquierda del haz, sin otra especificación\",\n",
    "]"
   ]
  },
  {
   "cell_type": "code",
   "execution_count": null,
   "metadata": {},
   "outputs": [],
   "source": [
    "# Filtra la base de HMD con las trazadoras\n",
    "trazadoras_hmd = df_hmd.query(\"diag_01_principal_coddes.isin(@diagnosticos_hmd)\")\n",
    "\n",
    "# Calcula los procedimientos realizados para cada trazadora\n",
    "procedimientos_de_trazadoras = trazadoras_hmd.groupby([\"diag_01_principal_coddes\"])[\n",
    "    \"proced_01_principal_coddes\"\n",
    "].value_counts()"
   ]
  },
  {
   "cell_type": "code",
   "execution_count": null,
   "metadata": {},
   "outputs": [],
   "source": [
    "procedimientos_de_trazadoras.to_excel(\"../data/interim/procedimientos_trazadoras_hmd.xlsx\")"
   ]
  }
 ],
 "metadata": {
  "language_info": {
   "name": "python"
  }
 },
 "nbformat": 4,
 "nbformat_minor": 2
}
