{
 "cells": [
  {
   "cell_type": "code",
   "execution_count": 1,
   "metadata": {},
   "outputs": [],
   "source": [
    "import sys\n",
    "import os\n",
    "\n",
    "project_root = os.path.abspath('..')\n",
    "if project_root not in sys.path:\n",
    "    sys.path.append(project_root)\n",
    " \n",
    "%load_ext autoreload\n",
    "%autoreload 2"
   ]
  },
  {
   "cell_type": "code",
   "execution_count": 2,
   "metadata": {},
   "outputs": [],
   "source": [
    "import pandas as pd\n",
    "import numpy as np\n",
    "\n",
    "import matplotlib.pyplot as plt\n",
    "import seaborn as sns\n",
    "\n",
    "from matplotlib_venn import venn2\n",
    "\n",
    "from src.features import build_features\n",
    "\n",
    "sns.set_theme(palette=\"pastel\")\n",
    "plt.rcParams[\"figure.figsize\"] = (12, 6)\n",
    "pd.set_option(\"display.max_columns\", None)\n",
    "\n",
    "COLUMNAS_GRD = [\n",
    "    \"RUT\",\n",
    "    \"SEXO\",\n",
    "    # \"EDAD_CANT\",\n",
    "    \"PREVI\",\n",
    "    \"BENEF\",\n",
    "    \"NOM_HOPI_P\",\n",
    "    \"FECHA_INGRESO\",\n",
    "    \"FECHA_EGRESO\",\n",
    "    \"ANO_EGR\",\n",
    "    \"DIAS_ESTAD\",\n",
    "    \"DIAG1\",\n",
    "    \"DIAG2\",\n",
    "    \"DIAG3\",\n",
    "    \"INTERV_Q\",\n",
    "    \"COD_FONASA\",\n",
    "    \"INTERV_Q_PPAL\",\n",
    "    \"INTERV_Q_2\",\n",
    "    \"INTERV_Q_3\",\n",
    "    \"T_DIAG1\",\n",
    "    \"T_DIAG2\",\n",
    "    \"T_DIAG3\",\n",
    "    \"PROCED\",\n",
    "    \"PROCED_PPAL\",\n",
    "    \"PROCED_2\",\n",
    "    \"PROCED_3\",\n",
    "]\n",
    "\n",
    "COLUMNA_GRD_INTERNO = [\n",
    "    \"rut\",\n",
    "    \"sexo_cod\",\n",
    "    \"prevision_cod\",\n",
    "    \"hospital_de_procedencia_cod\",\n",
    "    \"fecha_ingreso\",\n",
    "    \"fecha_de_egreso\",\n",
    "    \"ano_de_egreso\",\n",
    "    \"estancias_totales\",\n",
    "    \"diag_01_principal_cod\",\n",
    "    \"diag_01_principal_des\",\n",
    "    \"diag_02_secundario_cod\",\n",
    "    \"diag_02_secundario_des\",\n",
    "    \"diag_03_secundario_cod\",\n",
    "    \"diag_03_secundario_des\",\n",
    "    \"proced_01_principal_cod\",\n",
    "    \"proced_01_principal_des\",\n",
    "    \"1ra_intervencion_cirujano\",\n",
    "    \"especialidad_medica_de_la_intervencion_des\",\n",
    "]"
   ]
  },
  {
   "cell_type": "code",
   "execution_count": 3,
   "metadata": {},
   "outputs": [
    {
     "name": "stderr",
     "output_type": "stream",
     "text": [
      "/Users/javierrojas/Documents/SSMO/EPH - INT/21-grd-interno/src/features/build_features.py:6: DtypeWarning: Columns (80,156) have mixed types. Specify dtype option on import or set low_memory=False.\n",
      "  df = pd.read_csv(ruta_archivo, usecols=columnas)\n"
     ]
    }
   ],
   "source": [
    "RUTA_SABANAS = \"../data/processed/grd_sabanas.csv\"\n",
    "COLUMNAS_FECHA_SABANAS = [\"FECHA_INGRESO\", \"FECHA_EGRESO\"]\n",
    "\n",
    "RUTA_GRD_INTERNO = \"../data/processed/grd_interno.csv\"\n",
    "COLUMNAS_FECHA_GRD_INT = [\"fecha_ingreso\", \"fecha_de_egreso\"]\n",
    "\n",
    "RUTA_PABELLON = \"../data/external/datos_limpios_pabellon.csv\"\n",
    "\n",
    "# Leer y formatear datos de GRD\n",
    "df_grd_sabanas = build_features.cargar_datos_grd(RUTA_SABANAS, columnas=COLUMNAS_GRD)\n",
    "df_grd_sabanas = build_features.formatear_columnas_fecha(df_grd_sabanas, COLUMNAS_FECHA_SABANAS)\n",
    "\n",
    "df_grd_interno = build_features.cargar_datos_grd(RUTA_GRD_INTERNO, columnas=COLUMNA_GRD_INTERNO)\n",
    "df_grd_interno = build_features.formatear_columnas_fecha(df_grd_interno, COLUMNAS_FECHA_GRD_INT)\n",
    "df_grd_interno = df_grd_interno.reset_index(names=\"id_egreso\")\n",
    "\n",
    "# Leer y formatear datos de operaciones quirúrgicas\n",
    "df_pabellon = pd.read_csv(RUTA_PABELLON, encoding=\"latin-1\", sep=\";\")\n",
    "df_pabellon[\"fecha\"] = pd.to_datetime(df_pabellon[\"fecha\"])\n",
    "df_pabellon[\"duracion\"] = pd.to_timedelta(df_pabellon[\"duracion\"])\n",
    "\n",
    "# Limpiar datos de operaciones quirúrgicas\n",
    "df_pabellon_limpio = build_features.limpiar_datos_operaciones_quirurgicas(df_pabellon)"
   ]
  },
  {
   "cell_type": "markdown",
   "metadata": {},
   "source": [
    "Una vez que se han limpiado todas las bases de datos, se procedera a unir GRD y Pabellon."
   ]
  },
  {
   "cell_type": "code",
   "execution_count": 4,
   "metadata": {},
   "outputs": [],
   "source": [
    "# Fusionar GRD con datos de operaciones quirúrgicas\n",
    "grd_sabanas_y_pabellon = build_features.fusionar_grd_con_operaciones_quirurgicas(\n",
    "    df_grd_sabanas, df_pabellon_limpio, \"RUT\", COLUMNAS_FECHA_SABANAS[0], COLUMNAS_FECHA_SABANAS[1]\n",
    ")\n",
    "grd_interno_y_pabellon = build_features.fusionar_grd_con_operaciones_quirurgicas(\n",
    "    df_grd_interno, df_pabellon_limpio, \"rut\", COLUMNAS_FECHA_GRD_INT[0], COLUMNAS_FECHA_GRD_INT[1]\n",
    ")"
   ]
  },
  {
   "cell_type": "code",
   "execution_count": 5,
   "metadata": {},
   "outputs": [],
   "source": [
    "# Calcular estadísticas resumidas\n",
    "resumen_duraciones = build_features.calcular_estadisticas_resumidas(\n",
    "    grd_sabanas_y_pabellon, [\"ANO_EGR\", \"DIAG1\"], \"duracion\"\n",
    ")\n",
    "resumen_grd_interno_duraciones_por_operacion = build_features.calcular_estadisticas_resumidas(\n",
    "    grd_interno_y_pabellon,\n",
    "    [\"ano_de_egreso\", \"diag_01_principal_cod\", \"proced_01_principal_des\"],\n",
    "    \"duracion\",\n",
    ").sort_values([\"ano_de_egreso\", \"diag_01_principal_cod\", \"count\"], ascending=[True, True, False])\n",
    "\n",
    "resumen_duraciones_por_diagnostico_total = build_features.calcular_estadisticas_resumidas(\n",
    "    grd_interno_y_pabellon, [\"ano_de_egreso\", \"diag_01_principal_cod\"], \"duracion\"\n",
    ")\n",
    "\n",
    "# Preparar dataframes para exportar a Excel\n",
    "a_guardar = {\n",
    "    \"por_diagnostico\": resumen_duraciones_por_diagnostico_total,\n",
    "    \"por_diagnostico_e_int_q\": resumen_grd_interno_duraciones_por_operacion,\n",
    "}\n",
    "\n",
    "# Guardar dataframes en Excel\n",
    "build_features.guardar_en_excel(\n",
    "    a_guardar, \"../data/interim/duraciones_de_int_q_por_diagnostico.xlsx\"\n",
    ")"
   ]
  },
  {
   "cell_type": "code",
   "execution_count": 6,
   "metadata": {},
   "outputs": [
    {
     "data": {
      "text/plain": [
       "ano_de_egreso\n",
       "2015    1783\n",
       "2016    1338\n",
       "2017    1372\n",
       "2018    1608\n",
       "2019    1636\n",
       "2020    1002\n",
       "2021    1474\n",
       "2022    1639\n",
       "Name: especialidad_medica_de_la_intervencion_des, dtype: int64"
      ]
     },
     "execution_count": 6,
     "metadata": {},
     "output_type": "execute_result"
    }
   ],
   "source": [
    "df_grd_interno.groupby(\"ano_de_egreso\")[\"especialidad_medica_de_la_intervencion_des\"].count()"
   ]
  },
  {
   "cell_type": "code",
   "execution_count": 7,
   "metadata": {},
   "outputs": [
    {
     "data": {
      "text/plain": [
       "ano_de_egreso\n",
       "2015    1344\n",
       "2016    1364\n",
       "2017    1402\n",
       "2018    1591\n",
       "2019    1601\n",
       "2020     581\n",
       "2021     510\n",
       "2022     566\n",
       "Name: id_egreso, dtype: int64"
      ]
     },
     "execution_count": 7,
     "metadata": {},
     "output_type": "execute_result"
    }
   ],
   "source": [
    "grd_interno_y_pabellon.groupby(\"ano_de_egreso\")[\"id_egreso\"].nunique()"
   ]
  },
  {
   "cell_type": "code",
   "execution_count": 8,
   "metadata": {},
   "outputs": [],
   "source": [
    "RUTS_GRD_INTERNO = set(df_grd_interno[\"rut\"].unique())\n",
    "RUTS_GRD_SABANAS = set(df_grd_sabanas[\"RUT\"].unique())\n",
    "\n",
    "ruts_solo_en_grd_interno = RUTS_GRD_INTERNO - RUTS_GRD_SABANAS\n",
    "ruts_solo_en_grd_sabanas = RUTS_GRD_SABANAS - RUTS_GRD_INTERNO"
   ]
  },
  {
   "cell_type": "code",
   "execution_count": 9,
   "metadata": {},
   "outputs": [
    {
     "data": {
      "text/plain": [
       "<matplotlib_venn._common.VennDiagram at 0x15449fcb0>"
      ]
     },
     "execution_count": 9,
     "metadata": {},
     "output_type": "execute_result"
    },
    {
     "data": {
      "image/png": "[encoded data removed]",
      "text/plain": [
       "<Figure size 1200x600 with 1 Axes>"
      ]
     },
     "metadata": {},
     "output_type": "display_data"
    }
   ],
   "source": [
    "venn2([RUTS_GRD_INTERNO, RUTS_GRD_SABANAS])"
   ]
  }
 ],
 "metadata": {
  "kernelspec": {
   "display_name": "grd-interno",
   "language": "python",
   "name": "python3"
  },
  "language_info": {
   "codemirror_mode": {
    "name": "ipython",
    "version": 3
   },
   "file_extension": ".py",
   "mimetype": "text/x-python",
   "name": "python",
   "nbconvert_exporter": "python",
   "pygments_lexer": "ipython3",
   "version": "3.12.3"
  }
 },
 "nbformat": 4,
 "nbformat_minor": 2
}
