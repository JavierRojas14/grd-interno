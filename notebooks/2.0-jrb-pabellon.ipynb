{
 "cells": [
  {
   "cell_type": "code",
   "execution_count": null,
   "metadata": {},
   "outputs": [],
   "source": [
    "import sys\n",
    "import os\n",
    "\n",
    "project_root = os.path.abspath('..')\n",
    "if project_root not in sys.path:\n",
    "    sys.path.append(project_root)\n",
    " \n",
    "%load_ext autoreload\n",
    "%autoreload 2"
   ]
  },
  {
   "cell_type": "code",
   "execution_count": null,
   "metadata": {},
   "outputs": [],
   "source": [
    "import pandas as pd\n",
    "import numpy as np\n",
    "\n",
    "import matplotlib.pyplot as plt\n",
    "import seaborn as sns\n",
    "\n",
    "from matplotlib_venn import venn2\n",
    "\n",
    "from src.features import build_features\n",
    "\n",
    "sns.set_theme(palette=\"pastel\")\n",
    "plt.rcParams[\"figure.figsize\"] = (12, 6)\n",
    "pd.set_option(\"display.max_columns\", None)\n",
    "\n",
    "COLUMNAS_GRD = [\n",
    "    \"RUT_LIMPIO\",\n",
    "    \"SEXO\",\n",
    "    # \"EDAD_CANT\",\n",
    "    \"PREVI\",\n",
    "    \"BENEF\",\n",
    "    \"NOM_HOPI_P\",\n",
    "    \"FECHA_INGRESO\",\n",
    "    \"FECHA_EGRESO\",\n",
    "    \"ANO_EGR\",\n",
    "    \"DIAS_ESTAD\",\n",
    "    \"DIAG1\",\n",
    "    \"DIAG2\",\n",
    "    \"DIAG3\",\n",
    "    \"INTERV_Q\",\n",
    "    \"COD_FONASA\",\n",
    "    \"INTERV_Q_PPAL\",\n",
    "    \"INTERV_Q_2\",\n",
    "    \"INTERV_Q_3\",\n",
    "    \"T_DIAG1\",\n",
    "    \"T_DIAG2\",\n",
    "    \"T_DIAG3\",\n",
    "    \"PROCED\",\n",
    "    \"PROCED_PPAL\",\n",
    "    \"PROCED_2\",\n",
    "    \"PROCED_3\",\n",
    "]\n",
    "\n",
    "COLUMNA_GRD_INTERNO = [\n",
    "    \"rut\",\n",
    "    \"RUT_LIMPIO\",\n",
    "    \"sexo_cod\",\n",
    "    \"prevision_cod\",\n",
    "    \"hospital_de_procedencia_cod\",\n",
    "    \"fecha_ingreso\",\n",
    "    \"fecha_de_egreso\",\n",
    "    \"ano_de_egreso\",\n",
    "    \"estancias_totales\",\n",
    "    \"diag_01_principal_cod\",\n",
    "    \"diag_01_principal_des\",\n",
    "    \"diag_02_secundario_cod\",\n",
    "    \"diag_02_secundario_des\",\n",
    "    \"diag_03_secundario_cod\",\n",
    "    \"diag_03_secundario_des\",\n",
    "    \"proced_01_principal_cod\",\n",
    "    \"proced_01_principal_des\",\n",
    "    \"1ra_intervencion_cirujano\",\n",
    "    \"especialidad_medica_de_la_intervencion_des\",\n",
    "]"
   ]
  },
  {
   "cell_type": "code",
   "execution_count": null,
   "metadata": {},
   "outputs": [],
   "source": [
    "RUTA_SABANAS = \"../data/processed/grd_sabanas.csv\"\n",
    "COLUMNAS_FECHA_SABANAS = [\"FECHA_INGRESO\", \"FECHA_EGRESO\"]\n",
    "\n",
    "RUTA_GRD_INTERNO = \"../data/processed/grd_interno.csv\"\n",
    "COLUMNAS_FECHA_GRD_INT = [\"fecha_ingreso\", \"fecha_de_egreso\"]\n",
    "\n",
    "RUTA_PABELLON = \"../data/external/datos_limpios_pabellon.csv\"\n",
    "\n",
    "# Leer y formatear datos de GRD\n",
    "df_grd_sabanas = build_features.cargar_datos_grd(RUTA_SABANAS, columnas=COLUMNAS_GRD)\n",
    "df_grd_sabanas = build_features.formatear_columnas_fecha(df_grd_sabanas, COLUMNAS_FECHA_SABANAS)\n",
    "df_grd_sabanas[\"RUT_LIMPIO\"] = df_grd_sabanas[\"RUT_LIMPIO\"].astype(str)\n",
    "\n",
    "df_grd_interno = build_features.cargar_datos_grd(RUTA_GRD_INTERNO, columnas=COLUMNA_GRD_INTERNO)\n",
    "df_grd_interno = build_features.formatear_columnas_fecha(df_grd_interno, COLUMNAS_FECHA_GRD_INT)\n",
    "df_grd_interno = df_grd_interno.reset_index(names=\"id_egreso\")\n",
    "df_grd_interno[\"RUT_LIMPIO\"] = df_grd_interno[\"RUT_LIMPIO\"].astype(str)\n",
    "# Cambia nomenclatra del codigo CIE-10\n",
    "df_grd_interno[\"diag_01_principal_cod\"] = (\n",
    "    df_grd_interno[\"diag_01_principal_cod\"].str.replace(\".\", \"\", regex=False).str.ljust(4, \"X\")\n",
    ")\n",
    "\n",
    "# Leer y formatear datos de operaciones quirúrgicas\n",
    "df_pabellon = pd.read_csv(RUTA_PABELLON, encoding=\"latin-1\", sep=\";\")\n",
    "df_pabellon[\"fecha\"] = pd.to_datetime(df_pabellon[\"fecha\"])\n",
    "df_pabellon[\"duracion\"] = pd.to_timedelta(df_pabellon[\"duracion\"])\n",
    "\n",
    "# Limpiar datos de operaciones quirúrgicas\n",
    "df_pabellon_limpio = build_features.limpiar_datos_operaciones_quirurgicas(df_pabellon)\n",
    "df_pabellon_limpio = df_pabellon_limpio.reset_index(names=\"id_int_q\")"
   ]
  },
  {
   "cell_type": "markdown",
   "metadata": {},
   "source": [
    "Una vez que se han limpiado todas las bases de datos, se procedera a unir GRD y Pabellon."
   ]
  },
  {
   "cell_type": "code",
   "execution_count": null,
   "metadata": {},
   "outputs": [],
   "source": [
    "# Fusionar GRD con datos de operaciones quirúrgicas\n",
    "grd_sabanas_y_pabellon = build_features.fusionar_grd_con_operaciones_quirurgicas(\n",
    "    df_grd_sabanas,\n",
    "    df_pabellon_limpio,\n",
    "    \"RUT_LIMPIO\",\n",
    "    COLUMNAS_FECHA_SABANAS[0],\n",
    "    COLUMNAS_FECHA_SABANAS[1],\n",
    ")\n",
    "grd_interno_y_pabellon = build_features.fusionar_grd_con_operaciones_quirurgicas(\n",
    "    df_grd_interno,\n",
    "    df_pabellon_limpio,\n",
    "    \"RUT_LIMPIO\",\n",
    "    COLUMNAS_FECHA_GRD_INT[0],\n",
    "    COLUMNAS_FECHA_GRD_INT[1],\n",
    ")"
   ]
  },
  {
   "cell_type": "code",
   "execution_count": null,
   "metadata": {},
   "outputs": [],
   "source": [
    "grd_interno_y_pabellon.to_csv(\"../data/processed/grd_interno_y_pabellon.csv\")"
   ]
  },
  {
   "cell_type": "markdown",
   "metadata": {},
   "source": [
    "# 1. Control de Calidad de Union GRD y Pabellon"
   ]
  },
  {
   "cell_type": "markdown",
   "metadata": {},
   "source": [
    "## 1.1 Cantidad de Pacientes\n",
    "\n",
    "En teoria, los pacientes que aparezcan en Pabellon si o si deben estar en GRD."
   ]
  },
  {
   "cell_type": "code",
   "execution_count": null,
   "metadata": {},
   "outputs": [],
   "source": [
    "# Obtiene los pacientes unicos de cada base de dato\n",
    "pacientes_pabellon = set(df_pabellon_limpio[\"ID_PACIENTE\"].unique())\n",
    "pacientes_GRD = set(df_grd_interno[\"RUT_LIMPIO\"].unique())"
   ]
  },
  {
   "cell_type": "code",
   "execution_count": null,
   "metadata": {},
   "outputs": [],
   "source": [
    "venn2([pacientes_GRD, pacientes_pabellon])\n",
    "plt.show()"
   ]
  },
  {
   "cell_type": "markdown",
   "metadata": {},
   "source": [
    "Por lo tanto, hay 10154 pacientes que estan en ambas bases de datos. GRD, como es de esperar, posee un mayor universo de pacientes. Sin embargo, existen 291 pacientes que solamente existen en la base de pabellon, y es necesario identificarlos:"
   ]
  },
  {
   "cell_type": "code",
   "execution_count": null,
   "metadata": {},
   "outputs": [],
   "source": [
    "# Obtiene la cantidad de pacientes solo en pabellon\n",
    "pacientes_solo_en_pabellon = pacientes_pabellon - pacientes_GRD\n",
    "print(f\"Hay {len(pacientes_solo_en_pabellon)} pacientes solamente en pabellon\")"
   ]
  },
  {
   "cell_type": "code",
   "execution_count": null,
   "metadata": {},
   "outputs": [],
   "source": [
    "# Obtiene todos los registros de operaciones de pacientes en pabellon\n",
    "operaciones_de_pacientes_solo_en_pabellon = df_pabellon_limpio.query(\n",
    "    \"ID_PACIENTE.isin(@pacientes_solo_en_pabellon)\"\n",
    ")\n",
    "\n",
    "print(\n",
    "    f\"De los {len(pacientes_solo_en_pabellon)} pacientes solamente en pabellon, estos se \"\n",
    "    f\"realizaron {operaciones_de_pacientes_solo_en_pabellon.shape[0]} intervenciones quirurgicas\"\n",
    ")"
   ]
  },
  {
   "cell_type": "code",
   "execution_count": null,
   "metadata": {},
   "outputs": [],
   "source": [
    "operaciones_validas = df_pabellon_limpio.shape[0]\n",
    "print(f\"Hay {operaciones_validas} operaciones validas en la base de datos de pabellon\")\n",
    "\n",
    "operaciones_unidas_con_grd = grd_interno_y_pabellon.shape[0]\n",
    "print(f\"Al unir GRD y Pabellon, se unieron {operaciones_unidas_con_grd} intervenciones quir.\")\n",
    "\n",
    "diferencia_pabellon_y_union_con_grd = operaciones_validas - operaciones_unidas_con_grd\n",
    "print(f\"Por lo tanto, al unir pabellon y GRD, hay {diferencia_pabellon_y_union_con_grd} int. q. \"\n",
    "      f\"que quedaron sin unir\")\n",
    "\n",
    "print(f\"De las {diferencia_pabellon_y_union_con_grd}, \"\n",
    "      f\"{operaciones_de_pacientes_solo_en_pabellon.shape[0]} se realizaron los pacientes \"\n",
    "      f\"que solamente se encontraron en pabellon\")\n",
    "\n",
    "print(f\"Por lo tanto, hay 50 int. q. de pacientes que si estan en GRD, pero que se filtraron \"\n",
    "      f\"por fecha\")"
   ]
  },
  {
   "cell_type": "markdown",
   "metadata": {},
   "source": [
    "Ahora, cuales fueron las intervenciones de pacientes que si estan en GRD, pero que no se unieron?"
   ]
  },
  {
   "cell_type": "code",
   "execution_count": null,
   "metadata": {},
   "outputs": [],
   "source": [
    "# Obtiene operaciones fuera de egresos\n",
    "ids_operaciones_unidas = grd_interno_y_pabellon[\"id_int_q\"].unique()\n",
    "operaciones_sin_unir_totales = df_pabellon_limpio.query(\"~id_int_q.isin(@ids_operaciones_unidas)\")\n",
    "operaciones_sin_unir_fuera_de_egreso = operaciones_sin_unir_totales.query(\n",
    "    \"~ID_PACIENTE.isin(@pacientes_solo_en_pabellon)\"\n",
    ")"
   ]
  }
 ],
 "metadata": {
  "language_info": {
   "name": "python"
  }
 },
 "nbformat": 4,
 "nbformat_minor": 2
}
