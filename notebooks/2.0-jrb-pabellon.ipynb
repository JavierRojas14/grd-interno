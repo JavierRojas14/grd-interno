{
 "cells": [
  {
   "cell_type": "code",
   "execution_count": 1,
   "metadata": {},
   "outputs": [],
   "source": [
    "import sys\n",
    "import os\n",
    "\n",
    "project_root = os.path.abspath('..')\n",
    "if project_root not in sys.path:\n",
    "    sys.path.append(project_root)\n",
    " \n",
    "%load_ext autoreload\n",
    "%autoreload 2"
   ]
  },
  {
   "cell_type": "code",
   "execution_count": 2,
   "metadata": {},
   "outputs": [],
   "source": [
    "import pandas as pd\n",
    "import numpy as np\n",
    "\n",
    "import matplotlib.pyplot as plt\n",
    "import seaborn as sns\n",
    "\n",
    "sns.set_theme(palette=\"pastel\")\n",
    "plt.rcParams[\"figure.figsize\"] = (12, 6)\n",
    "pd.set_option(\"display.max_columns\", None)\n",
    "\n",
    "COLUMNAS_GRD = [\n",
    "    \"RUT\",\n",
    "    \"SEXO\",\n",
    "    # \"EDAD_CANT\",\n",
    "    \"PREVI\",\n",
    "    \"BENEF\",\n",
    "    \"NOM_HOPI_P\",\n",
    "    \"FECHA_INGRESO\",\n",
    "    \"FECHA_EGRESO\",\n",
    "    \"ANO_EGR\",\n",
    "    \"DIAS_ESTAD\",\n",
    "    \"DIAG1\",\n",
    "    \"DIAG2\",\n",
    "    \"DIAG3\",\n",
    "    \"INTERV_Q\",\n",
    "    \"COD_FONASA\",\n",
    "    \"INTERV_Q_PPAL\",\n",
    "    \"INTERV_Q_2\",\n",
    "    \"INTERV_Q_3\",\n",
    "    \"T_DIAG1\",\n",
    "    \"T_DIAG2\",\n",
    "    \"T_DIAG3\",\n",
    "    \"PROCED\",\n",
    "    \"PROCED_PPAL\",\n",
    "    \"PROCED_2\",\n",
    "    \"PROCED_3\",\n",
    "]\n",
    "\n",
    "COLUMNA_GRD_INTERNO = [\n",
    "    \"rut\",\n",
    "    \"sexo_(cod)\",\n",
    "    \"prevision_(cod)\",\n",
    "    \"hospital_de_procedencia_(cod)\",\n",
    "    \"fecha_ingreso\",\n",
    "    \"fecha_de_egreso\",\n",
    "    \"ano_de_egreso\",\n",
    "    \"estancias_totales\",\n",
    "    \"diag_01_principal_(cod)\",\n",
    "    \"diag_01_principal_(des)\",\n",
    "    \"diag_02_secundario_(cod)\",\n",
    "    \"diag_02_secundario_(des)\",\n",
    "    \"diag_03_secundario_(cod)\",\n",
    "    \"diag_03_secundario_(des)\",\n",
    "    \"proced_01_principal_(cod)\",\n",
    "    \"proced_01_principal_(des)\",\n",
    "]"
   ]
  },
  {
   "cell_type": "code",
   "execution_count": 3,
   "metadata": {},
   "outputs": [
    {
     "name": "stderr",
     "output_type": "stream",
     "text": [
      "C:\\Users\\javie\\AppData\\Local\\Temp\\ipykernel_26552\\2934221659.py:2: DtypeWarning: Columns (80,156) have mixed types. Specify dtype option on import or set low_memory=False.\n",
      "  df_grd_sabanas = pd.read_csv(\"../data/processed/grd_sabanas.csv\", usecols=COLUMNAS_GRD)\n",
      "C:\\Users\\javie\\AppData\\Local\\Temp\\ipykernel_26552\\2934221659.py:8: DtypeWarning: Columns (2,4,39) have mixed types. Specify dtype option on import or set low_memory=False.\n",
      "  df_grd_interno = pd.read_csv(\"../data/processed/grd_interno.csv\") #, usecols=COLUMNA_GRD_INTERNO)\n"
     ]
    }
   ],
   "source": [
    "# Lee GRD del INT\n",
    "df_grd_sabanas = pd.read_csv(\"../data/processed/grd_sabanas.csv\", usecols=COLUMNAS_GRD)\n",
    "# Formatea fechas de GRD\n",
    "df_grd_sabanas[\"FECHA_INGRESO\"] = pd.to_datetime(df_grd_sabanas[\"FECHA_INGRESO\"])\n",
    "df_grd_sabanas[\"FECHA_EGRESO\"] = pd.to_datetime(df_grd_sabanas[\"FECHA_EGRESO\"])\n",
    "\n",
    "# Lee GRD Interno del INT\n",
    "df_grd_interno = pd.read_csv(\"../data/processed/grd_interno.csv\") #, usecols=COLUMNA_GRD_INTERNO)\n",
    "# Formatea fechas de GRD\n",
    "df_grd_interno[\"fecha_ingreso\"] = pd.to_datetime(df_grd_interno[\"fecha_ingreso\"])\n",
    "df_grd_interno[\"fecha_de_egreso\"] = pd.to_datetime(df_grd_interno[\"fecha_de_egreso\"])\n",
    "\n",
    "# Lee la base de pabellon del INT\n",
    "df_pabellon = pd.read_csv(\n",
    "    \"../data/external/datos_limpios_pabellon.csv\", encoding=\"latin-1\", sep=\";\"\n",
    ")\n",
    "# Formatea fechas de Pabellon\n",
    "df_pabellon[\"fecha\"] = pd.to_datetime(df_pabellon[\"fecha\"])\n",
    "\n",
    "# Formatea duraciones de operaciones\n",
    "df_pabellon[\"duracion\"] = pd.to_timedelta(df_pabellon[\"duracion\"])"
   ]
  },
  {
   "cell_type": "code",
   "execution_count": 4,
   "metadata": {},
   "outputs": [],
   "source": [
    "# Limpia la base de pabellon, sacando las suspendidas y sin duracion\n",
    "df_pabellon_limpio = df_pabellon.copy()\n",
    "df_pabellon_limpio = df_pabellon_limpio.query(\"suspendida == 'NO' and duracion.notna()\")"
   ]
  },
  {
   "cell_type": "code",
   "execution_count": 5,
   "metadata": {},
   "outputs": [],
   "source": [
    "# Une la base de GRD y Pabellon segun el RUT del Paciente\n",
    "grd_y_pabellon = df_grd_sabanas.merge(\n",
    "    df_pabellon_limpio, how=\"inner\", left_on=\"RUT\", right_on=\"ID_PACIENTE\"\n",
    ")\n",
    "\n",
    "# Filtra la union de GRD y Pabellon para dejar las Int. Q que se hicieron dentro del egreso\n",
    "grd_y_pabellon = grd_y_pabellon.query(\"fecha >= FECHA_INGRESO and fecha <= FECHA_EGRESO\")"
   ]
  },
  {
   "cell_type": "code",
   "execution_count": 6,
   "metadata": {},
   "outputs": [],
   "source": [
    "resumen_duraciones = (\n",
    "    grd_y_pabellon.groupby([\"ANO_EGR\", \"DIAG1\"])[\"duracion\"].describe().reset_index()\n",
    ")"
   ]
  },
  {
   "cell_type": "code",
   "execution_count": 7,
   "metadata": {},
   "outputs": [],
   "source": [
    "COLUMNAS_A_MOSTRAR = [\n",
    "    # \"rut\",\n",
    "    \"fecha_ingreso\",\n",
    "    \"fecha_de_egreso\",\n",
    "    \"ano_de_egreso\",\n",
    "    \"estancias_totales\",\n",
    "    \"diag_01_principal_(cod)\",\n",
    "    \"diag_01_principal_(des)\",\n",
    "    \"proced_01_principal_(cod)\",\n",
    "    \"proced_01_principal_(des)\",\n",
    "    \"fecha\",\n",
    "    \"primer_diagnostico\",\n",
    "    \"nombre_de_la_operacion\",\n",
    "    \"duracion\",\n",
    "]\n",
    "\n",
    "# Une la base de GRD Interno y Pabellon segun el RUT del paciente\n",
    "grd_interno_y_pabellon = df_grd_interno.merge(\n",
    "    df_pabellon_limpio, how=\"inner\", left_on=\"rut\", right_on=\"ID_PACIENTE\"\n",
    ")\n",
    "\n",
    "# Filtra la union de GRD y Pabellon para dejar las Int. Q que se hicieron dentro del egreso\n",
    "grd_interno_y_pabellon = grd_interno_y_pabellon.query(\n",
    "    \"fecha >= fecha_ingreso and fecha <= fecha_de_egreso\"\n",
    ")"
   ]
  },
  {
   "cell_type": "code",
   "execution_count": 8,
   "metadata": {},
   "outputs": [],
   "source": [
    "AGRUPACION_A_OBTENER = [\n",
    "    \"ano_de_egreso\",\n",
    "    \"diag_01_principal_(cod)\",\n",
    "    \"diag_01_principal_(des)\",\n",
    "    \"proced_01_principal_(cod)\",\n",
    "    \"proced_01_principal_(des)\",\n",
    "]\n",
    "# Obtiene resumen de duraciones por anio, diagnostico y tipo de operacion\n",
    "resumen_grd_interno_duraciones_por_operacion = (\n",
    "    grd_interno_y_pabellon.groupby(AGRUPACION_A_OBTENER)[\"duracion\"].describe().reset_index()\n",
    ")\n",
    "\n",
    "# Ordena los resultados por la cantidad de int. q. realizadas para cada diag\n",
    "resumen_grd_interno_duraciones_por_operacion = (\n",
    "    resumen_grd_interno_duraciones_por_operacion.sort_values(\n",
    "        [\"ano_de_egreso\", \"diag_01_principal_(cod)\", \"diag_01_principal_(des)\", \"count\"],\n",
    "        ascending=False,\n",
    "    )\n",
    ")"
   ]
  },
  {
   "cell_type": "code",
   "execution_count": 17,
   "metadata": {},
   "outputs": [],
   "source": [
    "resumen_grd_interno_duraciones_por_operacion.to_excel(\n",
    "    \"../data/interim/duraciones_de_int_q_por_diagnostico.xlsx\", index=False\n",
    ")"
   ]
  },
  {
   "cell_type": "markdown",
   "metadata": {},
   "source": [
    "## Diferencias de egresos entre ambas bases de GRD"
   ]
  },
  {
   "cell_type": "code",
   "execution_count": 10,
   "metadata": {},
   "outputs": [
    {
     "data": {
      "text/html": [
       "<div>\n",
       "<style scoped>\n",
       "    .dataframe tbody tr th:only-of-type {\n",
       "        vertical-align: middle;\n",
       "    }\n",
       "\n",
       "    .dataframe tbody tr th {\n",
       "        vertical-align: top;\n",
       "    }\n",
       "\n",
       "    .dataframe thead th {\n",
       "        text-align: right;\n",
       "    }\n",
       "</style>\n",
       "<table border=\"1\" class=\"dataframe\">\n",
       "  <thead>\n",
       "    <tr style=\"text-align: right;\">\n",
       "      <th></th>\n",
       "      <th>egresos_sabanas</th>\n",
       "      <th>egresos_grd_interno</th>\n",
       "    </tr>\n",
       "  </thead>\n",
       "  <tbody>\n",
       "    <tr>\n",
       "      <th>2015</th>\n",
       "      <td>4621</td>\n",
       "      <td>4621</td>\n",
       "    </tr>\n",
       "    <tr>\n",
       "      <th>2016</th>\n",
       "      <td>4872</td>\n",
       "      <td>4872</td>\n",
       "    </tr>\n",
       "    <tr>\n",
       "      <th>2017</th>\n",
       "      <td>4901</td>\n",
       "      <td>4901</td>\n",
       "    </tr>\n",
       "    <tr>\n",
       "      <th>2018</th>\n",
       "      <td>5482</td>\n",
       "      <td>5482</td>\n",
       "    </tr>\n",
       "    <tr>\n",
       "      <th>2019</th>\n",
       "      <td>5435</td>\n",
       "      <td>5435</td>\n",
       "    </tr>\n",
       "    <tr>\n",
       "      <th>2020</th>\n",
       "      <td>2848</td>\n",
       "      <td>2848</td>\n",
       "    </tr>\n",
       "    <tr>\n",
       "      <th>2021</th>\n",
       "      <td>3086</td>\n",
       "      <td>3086</td>\n",
       "    </tr>\n",
       "    <tr>\n",
       "      <th>2022</th>\n",
       "      <td>3219</td>\n",
       "      <td>3219</td>\n",
       "    </tr>\n",
       "  </tbody>\n",
       "</table>\n",
       "</div>"
      ],
      "text/plain": [
       "      egresos_sabanas  egresos_grd_interno\n",
       "2015             4621                 4621\n",
       "2016             4872                 4872\n",
       "2017             4901                 4901\n",
       "2018             5482                 5482\n",
       "2019             5435                 5435\n",
       "2020             2848                 2848\n",
       "2021             3086                 3086\n",
       "2022             3219                 3219"
      ]
     },
     "metadata": {},
     "output_type": "display_data"
    }
   ],
   "source": [
    "# Obtiene cantidad de egresos para cada base de datos\n",
    "cantidad_egresos_sabanas = df_grd_sabanas.groupby(\"ANO_EGR\").size()\n",
    "cantidad_egresos_grd_interno = df_grd_interno.groupby(\"ano_de_egreso\").size()\n",
    "\n",
    "resumen_egresos = pd.DataFrame(\n",
    "    {\n",
    "        \"egresos_sabanas\": cantidad_egresos_sabanas,\n",
    "        \"egresos_grd_interno\": cantidad_egresos_grd_interno,\n",
    "    }\n",
    ")\n",
    "\n",
    "display(resumen_egresos)"
   ]
  },
  {
   "cell_type": "markdown",
   "metadata": {},
   "source": [
    "Por lo tanto, ambas bases poseen la misma cantidad de egresos por año."
   ]
  },
  {
   "cell_type": "code",
   "execution_count": 11,
   "metadata": {},
   "outputs": [
    {
     "name": "stdout",
     "output_type": "stream",
     "text": [
      "> Hay 15897 intervenciones quirurgicas en la BD.\n",
      "> De esas, 1355 son suspendidas.\n",
      "> De las 1355 suspendidas, hay 25 que tienen duracion de la operacion. Estas seran eliminadas, pero hay que discutirlo.\n",
      "> Ademas, hay 10 intervenciones NO suspendidas, pero sin tiempo. Estas seran eliminadas.\n",
      "> Finalmente, hay 26 intervenciones que NO indican si fueron  suspendidas o no. Estas seran eliminadas, pero hay que discutirlo\n",
      "\n",
      "Por lo tanto, hay 14506 intervenciones validas.\n"
     ]
    }
   ],
   "source": [
    "cantidad_de_int_q = df_pabellon.shape[0]\n",
    "sin_suspendidas = df_pabellon.query(\"suspendida.isna()\")\n",
    "suspendidas = df_pabellon.query(\"suspendida == 'SI'\")\n",
    "suspendidas_pero_con_duracion = suspendidas.query(\"duracion.notna()\")\n",
    "no_suspendidas_pero_sin_duracion = df_pabellon.query(\"suspendida == 'NO' and duracion.isna()\")\n",
    "\n",
    "print(f\"> Hay {cantidad_de_int_q} intervenciones quirurgicas en la BD.\")\n",
    "print(f\"> De esas, {suspendidas.shape[0]} son suspendidas.\")\n",
    "print(f\"> De las {suspendidas.shape[0]} suspendidas, hay \"\n",
    "      f\"{suspendidas_pero_con_duracion.shape[0]} que tienen duracion de la operacion. \"\n",
    "      f\"Estas seran eliminadas, pero hay que discutirlo.\")\n",
    "print(f\"> Ademas, hay {no_suspendidas_pero_sin_duracion.shape[0]} intervenciones NO suspendidas, \"\n",
    "      f\"pero sin tiempo. Estas seran eliminadas.\")\n",
    "print(f\"> Finalmente, hay {sin_suspendidas.shape[0]} intervenciones que NO indican si fueron \"\n",
    "      f\" suspendidas o no. Estas seran eliminadas, pero hay que discutirlo\")\n",
    "print(f\"\\nPor lo tanto, hay {df_pabellon_limpio.shape[0]} intervenciones validas.\")"
   ]
  }
 ],
 "metadata": {
  "kernelspec": {
   "display_name": "grd-interno",
   "language": "python",
   "name": "python3"
  },
  "language_info": {
   "codemirror_mode": {
    "name": "ipython",
    "version": 3
   },
   "file_extension": ".py",
   "mimetype": "text/x-python",
   "name": "python",
   "nbconvert_exporter": "python",
   "pygments_lexer": "ipython3",
   "version": "3.12.3"
  }
 },
 "nbformat": 4,
 "nbformat_minor": 2
}
