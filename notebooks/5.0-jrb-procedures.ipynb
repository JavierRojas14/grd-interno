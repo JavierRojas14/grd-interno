{
 "cells": [
  {
   "cell_type": "code",
   "execution_count": null,
   "metadata": {},
   "outputs": [],
   "source": [
    "import sys\n",
    "import os\n",
    "\n",
    "project_root = os.path.abspath('..')\n",
    "if project_root not in sys.path:\n",
    "    sys.path.append(project_root)\n",
    " \n",
    "%load_ext autoreload\n",
    "%autoreload 2"
   ]
  },
  {
   "cell_type": "code",
   "execution_count": null,
   "metadata": {},
   "outputs": [],
   "source": [
    "import pandas as pd\n",
    "import numpy as np\n",
    "\n",
    "import matplotlib.pyplot as plt\n",
    "import seaborn as sns\n",
    "\n",
    "from src.features import build_features\n",
    "\n",
    "sns.set_theme(palette=\"pastel\")\n",
    "plt.rcParams[\"figure.figsize\"] = (12, 6)\n",
    "pd.set_option(\"display.max_columns\", None)"
   ]
  },
  {
   "cell_type": "code",
   "execution_count": null,
   "metadata": {},
   "outputs": [],
   "source": [
    "COLUMNA_GRD_INTERNO = [\n",
    "    \"rut\",\n",
    "    \"RUT_LIMPIO\",\n",
    "    \"sexo_cod\",\n",
    "    \"prevision_cod\",\n",
    "    \"hospital_de_procedencia_cod\",\n",
    "    \"fecha_ingreso\",\n",
    "    \"fecha_de_egreso\",\n",
    "    \"ano_de_egreso\",\n",
    "    \"estancias_totales\",\n",
    "    \"diag_01_principal_cod\",\n",
    "    \"diag_01_principal_des\",\n",
    "    \"diag_02_secundario_cod\",\n",
    "    \"diag_02_secundario_des\",\n",
    "    \"diag_03_secundario_cod\",\n",
    "    \"diag_03_secundario_des\",\n",
    "    \"proced_01_principal_cod\",\n",
    "    \"proced_01_principal_des\",\n",
    "    \"1ra_intervencion_cirujano\",\n",
    "    \"especialidad_medica_de_la_intervencion_des\",\n",
    "]\n",
    "\n",
    "RUTA_GRD_INTERNO = \"../data/processed/grd_interno.csv\"\n",
    "COLUMNAS_FECHA_GRD_INT = [\"fecha_ingreso\", \"fecha_de_egreso\"]"
   ]
  },
  {
   "cell_type": "code",
   "execution_count": null,
   "metadata": {},
   "outputs": [],
   "source": [
    "# Carga la base de datos de ambulatorio, eliminando 2023 debido a falla en registro\n",
    "df_his = pd.read_csv(\"../data/external/his_procesada.csv\")\n",
    "df_his = df_his.query(\"ano != 2023\")\n",
    "df_his[\"id_paciente\"] = df_his[\"id_paciente\"].astype(str)"
   ]
  },
  {
   "cell_type": "code",
   "execution_count": null,
   "metadata": {},
   "outputs": [],
   "source": [
    "# Carga la base de datos de Procedimientos - Datos Estadisticos\n",
    "procedimientos = pd.read_csv(\"../data/external/procedimientos_procesada.csv\")\n",
    "procedimientos[\"id_paciente\"] = procedimientos[\"id_paciente\"].astype(str)"
   ]
  },
  {
   "cell_type": "code",
   "execution_count": null,
   "metadata": {},
   "outputs": [],
   "source": [
    "# Une la base de HIS y Procedimientos (Datos estadisticos)\n",
    "his_y_procedimientos = df_his.merge(procedimientos, how=\"left\", on=\"id_paciente\")"
   ]
  },
  {
   "cell_type": "code",
   "execution_count": null,
   "metadata": {},
   "outputs": [],
   "source": [
    "# Obtiene los procedimientos de fibrobroncoscopia\n",
    "PROCEDIMIENTOS_FIBRO = [\n",
    "    \"LARINGOTRAQUEOBRONCOSCOPIA CON FIBROSCOPIO\",\n",
    "    \"NASOFARINGOLARINGOFIBROSCOPIA\",\n",
    "]"
   ]
  },
  {
   "cell_type": "code",
   "execution_count": null,
   "metadata": {},
   "outputs": [],
   "source": [
    "# Define los registros que si tienen una fibrobroncoscopia\n",
    "pacientes_con_fibrobronco = his_y_procedimientos.query(\"glosa.isin(@PROCEDIMIENTOS_FIBRO)\")"
   ]
  },
  {
   "cell_type": "code",
   "execution_count": null,
   "metadata": {},
   "outputs": [],
   "source": [
    "# Obtiene los pacientes que requieren una fibrobronco por diagnostico\n",
    "pacientes_con_fibro_por_diag = pacientes_con_fibrobronco.groupby(\n",
    "    [\"codigo_diagnostico\", \"nombre_diagnostico\"]\n",
    ")[\"id_paciente\"].nunique()\n",
    "diagnosticos_que_requieren_fibro = pacientes_con_fibro_por_diag.index.get_level_values(0)"
   ]
  },
  {
   "cell_type": "code",
   "execution_count": null,
   "metadata": {},
   "outputs": [],
   "source": [
    "# Obtiene el volumen total de pacientes para los diagnosticos que han tenido una fibrobronco\n",
    "registros_totales_diags_de_fibro = (\n",
    "    his_y_procedimientos.query(\"codigo_diagnostico.isin(@diagnosticos_que_requieren_fibro)\")\n",
    ").copy()\n",
    "\n",
    "pacientes_totales_diags_de_fibro = registros_totales_diags_de_fibro.groupby(\n",
    "    [\"codigo_diagnostico\", \"nombre_diagnostico\"]\n",
    ")[\"id_paciente\"].nunique()"
   ]
  },
  {
   "cell_type": "code",
   "execution_count": null,
   "metadata": {},
   "outputs": [],
   "source": [
    "# Compara la cantidad de pacientes totales por diag y los que requieren fibrobronco\n",
    "comparacion_pacientes_fibro = pd.concat(\n",
    "    [pacientes_totales_diags_de_fibro, pacientes_con_fibro_por_diag], axis=1\n",
    ")\n",
    "comparacion_pacientes_fibro.columns = [\"pacientes_totales_diag\", \"pacientes_que_requieren_fibro\"]\n",
    "comparacion_pacientes_fibro[\"porcentaje_fibro\"] = (\n",
    "    comparacion_pacientes_fibro[\"pacientes_que_requieren_fibro\"]\n",
    "    / comparacion_pacientes_fibro[\"pacientes_totales_diag\"]\n",
    ")"
   ]
  },
  {
   "cell_type": "code",
   "execution_count": null,
   "metadata": {},
   "outputs": [],
   "source": [
    "comparacion_pacientes_fibro.sort_values([\"pacientes_que_requieren_fibro\", \"porcentaje_fibro\"], ascending=False).to_excel(\"fibro.xlsx\")"
   ]
  },
  {
   "cell_type": "code",
   "execution_count": null,
   "metadata": {},
   "outputs": [],
   "source": [
    "n_pacientes_totales_diags_de_fibro = registros_totales_diags_de_fibro[\"id_paciente\"].nunique()\n",
    "n_pacientes_que_requieren_fibro = pacientes_con_fibrobronco[\"id_paciente\"].nunique()\n",
    "porcentaje_fibro_por_diag = n_pacientes_que_requieren_fibro / n_pacientes_totales_diags_de_fibro"
   ]
  },
  {
   "cell_type": "code",
   "execution_count": null,
   "metadata": {},
   "outputs": [],
   "source": [
    "print(f\"Hay {n_pacientes_totales_diags_de_fibro} pacientes en los diags que requieren fibro\")\n",
    "print(f\"Hay {n_pacientes_que_requieren_fibro} pacientes que requieren fibro\")\n",
    "print(f\"% de Fibro por diagnostico: {porcentaje_fibro_por_diag:.2%}\")"
   ]
  },
  {
   "cell_type": "markdown",
   "metadata": {},
   "source": [
    "## Calculo de Desempeño\n",
    "\n",
    "En este apartado, se quiere saber cuantos procedimientos son necesarios hacer por paciente. Para esto, se calcularán medidas de distribución"
   ]
  },
  {
   "cell_type": "code",
   "execution_count": null,
   "metadata": {},
   "outputs": [],
   "source": [
    "conteo_paciente_procedimientos = (\n",
    "    procedimientos.groupby(\"glosa\")[\"id_paciente\"].value_counts().reset_index()\n",
    ")\n",
    "desempeno_procedimientos = conteo_paciente_procedimientos.groupby(\"glosa\")[\"count\"].describe()"
   ]
  },
  {
   "cell_type": "code",
   "execution_count": null,
   "metadata": {},
   "outputs": [],
   "source": []
  }
 ],
 "metadata": {
  "language_info": {
   "name": "python"
  }
 },
 "nbformat": 4,
 "nbformat_minor": 2
}
