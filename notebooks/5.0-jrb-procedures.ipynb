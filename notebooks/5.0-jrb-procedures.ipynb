{
 "cells": [
  {
   "cell_type": "code",
   "execution_count": null,
   "metadata": {},
   "outputs": [],
   "source": [
    "import sys\n",
    "import os\n",
    "\n",
    "project_root = os.path.abspath('..')\n",
    "if project_root not in sys.path:\n",
    "    sys.path.append(project_root)\n",
    " \n",
    "%load_ext autoreload\n",
    "%autoreload 2"
   ]
  },
  {
   "cell_type": "code",
   "execution_count": null,
   "metadata": {},
   "outputs": [],
   "source": [
    "import pandas as pd\n",
    "import numpy as np\n",
    "\n",
    "import matplotlib.pyplot as plt\n",
    "import seaborn as sns\n",
    "\n",
    "from src.features import build_features\n",
    "\n",
    "sns.set_theme(palette='pastel')\n",
    "plt.rcParams['figure.figsize'] = (12, 6)\n",
    "pd.set_option('display.max_columns', None)"
   ]
  },
  {
   "cell_type": "code",
   "execution_count": null,
   "metadata": {},
   "outputs": [],
   "source": [
    "COLUMNA_GRD_INTERNO = [\n",
    "    \"rut\",\n",
    "    \"RUT_LIMPIO\",\n",
    "    \"sexo_cod\",\n",
    "    \"prevision_cod\",\n",
    "    \"hospital_de_procedencia_cod\",\n",
    "    \"fecha_ingreso\",\n",
    "    \"fecha_de_egreso\",\n",
    "    \"ano_de_egreso\",\n",
    "    \"estancias_totales\",\n",
    "    \"diag_01_principal_cod\",\n",
    "    \"diag_01_principal_des\",\n",
    "    \"diag_02_secundario_cod\",\n",
    "    \"diag_02_secundario_des\",\n",
    "    \"diag_03_secundario_cod\",\n",
    "    \"diag_03_secundario_des\",\n",
    "    \"proced_01_principal_cod\",\n",
    "    \"proced_01_principal_des\",\n",
    "    \"1ra_intervencion_cirujano\",\n",
    "    \"especialidad_medica_de_la_intervencion_des\",\n",
    "]\n",
    "\n",
    "RUTA_GRD_INTERNO = \"../data/processed/grd_interno.csv\"\n",
    "COLUMNAS_FECHA_GRD_INT = [\"fecha_ingreso\", \"fecha_de_egreso\"]"
   ]
  },
  {
   "cell_type": "code",
   "execution_count": null,
   "metadata": {},
   "outputs": [],
   "source": [
    "# Carga la base de datos de GRD Interno\n",
    "df_grd_interno = build_features.cargar_datos_grd(RUTA_GRD_INTERNO, columnas=COLUMNA_GRD_INTERNO)\n",
    "df_grd_interno = build_features.formatear_columnas_fecha(df_grd_interno, COLUMNAS_FECHA_GRD_INT)\n",
    "df_grd_interno = df_grd_interno.reset_index(names=\"id_egreso\")\n",
    "df_grd_interno[\"RUT_LIMPIO\"] = df_grd_interno[\"RUT_LIMPIO\"].astype(str)\n",
    "df_grd_interno[\"diag_01_principal_cod\"] = (\n",
    "    df_grd_interno[\"diag_01_principal_cod\"].str.replace(\".\", \"\", regex=False).str.ljust(4, \"X\")\n",
    ")\n",
    "\n",
    "# Carga la base de datos de Procedimientos - Datos Estadisticos\n",
    "procedimientos = pd.read_csv(\"../data/external/procedimientos_procesada.csv\")\n",
    "procedimientos[\"id_paciente\"] = procedimientos[\"id_paciente\"].astype(str)"
   ]
  },
  {
   "cell_type": "code",
   "execution_count": null,
   "metadata": {},
   "outputs": [],
   "source": [
    "# Obtiene el ultimo diagnostico de un paciente por GRD\n",
    "diagnosticos_pacientes = (\n",
    "    df_grd_interno.groupby(\"RUT_LIMPIO\")[\"diag_01_principal_cod\"].unique().str[-1]\n",
    ")"
   ]
  },
  {
   "cell_type": "code",
   "execution_count": null,
   "metadata": {},
   "outputs": [],
   "source": [
    "procedimientos.merge(diagnosticos_pacientes, how=\"left\", left_on=\"id_paciente\", right_index=True)"
   ]
  },
  {
   "cell_type": "code",
   "execution_count": null,
   "metadata": {},
   "outputs": [],
   "source": []
  }
 ],
 "metadata": {
  "language_info": {
   "name": "python"
  }
 },
 "nbformat": 4,
 "nbformat_minor": 2
}
