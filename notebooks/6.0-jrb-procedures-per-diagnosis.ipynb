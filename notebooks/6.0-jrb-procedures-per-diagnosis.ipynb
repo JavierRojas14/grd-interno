{
 "cells": [
  {
   "cell_type": "code",
   "execution_count": null,
   "metadata": {},
   "outputs": [],
   "source": [
    "import sys\n",
    "import os\n",
    "\n",
    "project_root = os.path.abspath('..')\n",
    "if project_root not in sys.path:\n",
    "    sys.path.append(project_root)\n",
    " \n",
    "%load_ext autoreload\n",
    "%autoreload 2"
   ]
  },
  {
   "cell_type": "code",
   "execution_count": null,
   "metadata": {},
   "outputs": [],
   "source": [
    "import pandas as pd\n",
    "import numpy as np\n",
    "\n",
    "import matplotlib.pyplot as plt\n",
    "import seaborn as sns\n",
    "\n",
    "sns.set_theme(palette='pastel')\n",
    "plt.rcParams['figure.figsize'] = (12, 6)\n",
    "pd.set_option('display.max_columns', None)"
   ]
  },
  {
   "cell_type": "markdown",
   "metadata": {},
   "source": [
    "## Objetivo de este cuadernillo\n",
    "\n",
    "En este cuadernillo se quiere identificar la canasta de procedimientos que se le hace a cada uno de los diagnósticos distintos. Por ejemplo:\n",
    "\n",
    "- A un paciente de Cáncer de Pulmón, cuál es la canasta de procedimientos que se le realiza?\n",
    "- Dentro de un procedimiento (Ej: Radiografía de Tórax), cuántos de estos se les realizará?\n",
    "\n",
    "Para esto se utilizará la base de procedimientos de Datos Estadísticos. Esta base contiene todos los procedimientos con código MAI del INT. Sin embargo, esta base carece del diágnostico de cada paciente. Por lo tanto, para solventar este problema se realizará lo siguiente:\n",
    "\n",
    "1. Asignar último diagnóstico registrado de un paciente por GRD\n",
    "2. Asignar último diagnóstico registrado de un paciente por HIS\n",
    "3. Calcular desempeño de cada procedimiento por cada uno de los diagnósticos\n",
    "\n",
    "Esto significará que se obtendrá la siguiente información:\n",
    "\n",
    "|Año|Diagnóstico|Procedimiento|N° Pacientes Distintos|Procedimientos Totales|Distribución Proced.|\n",
    "|---|---|---|---|---|---|\n",
    "|2020|C. de Pulmón|Radiografía de Tórax|560|897|...|\n",
    "|2020|C. de Pulmón|TAC|740|950|...|\n",
    "|...|...|...|...|...|...|\n",
    "\n",
    "Posteriormente, será necesario identificar el % de pacientes que requiere cada uno de los procedimientos. Por ejemplo:\n",
    "\n",
    "- Para los pacientes de C.de pulmón, solamente el 35% de todo el universo de C. de Pulmón requiere Radiografía de Tórax.\n",
    "\n",
    "Con esta información, el flujo de información será el siguiente:\n",
    "\n",
    "Pacientes de Área de Influencia para uno de los diagnósticos &rarr; Obtener el pool de pacientes que requerira cada uno de los procedimientos &rarr; Aplicar el desempeño de cada uno de los procedimienots respectivos"
   ]
  },
  {
   "cell_type": "code",
   "execution_count": null,
   "metadata": {},
   "outputs": [],
   "source": [
    "# Lee base de consultas y egresos\n",
    "df_grd = pd.read_csv(\"../data/processed/grd_interno.csv\")\n",
    "df_grd[\"fecha_de_egreso\"] = pd.to_datetime(df_grd[\"fecha_de_egreso\"])\n",
    "df_grd = df_grd.sort_values(\"fecha_de_egreso\")\n",
    "df_grd[\"RUT_LIMPIO\"] = df_grd[\"RUT_LIMPIO\"].astype(str)\n",
    "\n",
    "df_his = pd.read_csv(\"../data/external/his_procesada.csv\")\n",
    "df_his[\"fecha_atencion\"] = pd.to_datetime(df_his[\"fecha_atencion\"])\n",
    "df_his = df_his.sort_values(\"fecha_atencion\")\n",
    "df_his[\"id_paciente\"] = df_his[\"id_paciente\"].astype(str)\n",
    "\n",
    "# Lee base de procedimientos\n",
    "df_procedimientos = pd.read_csv(\"../data/external/procedimientos_procesada.csv\")\n",
    "df_procedimientos[\"id_paciente\"] = df_procedimientos[\"id_paciente\"].astype(str)"
   ]
  },
  {
   "cell_type": "markdown",
   "metadata": {},
   "source": [
    "## Asignacion de Diagnostico a cada procedimiento"
   ]
  },
  {
   "cell_type": "code",
   "execution_count": null,
   "metadata": {},
   "outputs": [],
   "source": [
    "# Aisla los diagnosticos de cada una de las bases de datos\n",
    "diags_grd = (\n",
    "    df_grd.groupby(\"RUT_LIMPIO\")\n",
    "    .tail(1)\n",
    "    [[\"RUT_LIMPIO\", \"diag_01_principal_cod\", \"diag_01_principal_des\"]]\n",
    ")\n",
    "\n",
    "diags_his = (\n",
    "    df_his.groupby(\"id_paciente\")\n",
    "    .tail(1)\n",
    "    [[\"id_paciente\", \"codigo_diagnostico\", \"nombre_diagnostico\"]]\n",
    ")"
   ]
  },
  {
   "cell_type": "code",
   "execution_count": null,
   "metadata": {},
   "outputs": [],
   "source": [
    "# Agrega diagnosticos a los procedimientos\n",
    "procedimientos_con_diags = df_procedimientos.merge(diags_his, how=\"left\", on=\"id_paciente\")"
   ]
  },
  {
   "cell_type": "markdown",
   "metadata": {},
   "source": [
    "## Obtencion de desempeño de cada procedimiento por diagnóstico y año"
   ]
  },
  {
   "cell_type": "code",
   "execution_count": null,
   "metadata": {},
   "outputs": [],
   "source": [
    "# Hace conteo de pacientes y procedimientos por anio y diagnostico\n",
    "conteo_proced_por_pacientes = procedimientos_con_diags.groupby(\n",
    "    [\"ano\", \"codigo_diagnostico\", \"nombre_diagnostico\", \"glosa\"]\n",
    ")[\"id_paciente\"].value_counts()"
   ]
  },
  {
   "cell_type": "code",
   "execution_count": null,
   "metadata": {},
   "outputs": [],
   "source": [
    "procedimientos_con_diags.groupby([\"ano\", \"codigo_diagnostico\"])"
   ]
  },
  {
   "cell_type": "code",
   "execution_count": null,
   "metadata": {},
   "outputs": [],
   "source": [
    "procedimientos_con_"
   ]
  }
 ],
 "metadata": {
  "language_info": {
   "name": "python"
  }
 },
 "nbformat": 4,
 "nbformat_minor": 2
}
