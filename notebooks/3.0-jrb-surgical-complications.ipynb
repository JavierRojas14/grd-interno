{
 "cells": [
  {
   "cell_type": "code",
   "execution_count": null,
   "metadata": {},
   "outputs": [],
   "source": [
    "import sys\n",
    "import os\n",
    "\n",
    "project_root = os.path.abspath('..')\n",
    "if project_root not in sys.path:\n",
    "    sys.path.append(project_root)\n",
    " \n",
    "%load_ext autoreload\n",
    "%autoreload 2"
   ]
  },
  {
   "cell_type": "code",
   "execution_count": null,
   "metadata": {},
   "outputs": [],
   "source": [
    "import pandas as pd\n",
    "import numpy as np\n",
    "\n",
    "import matplotlib.pyplot as plt\n",
    "import seaborn as sns\n",
    "\n",
    "from src.features import build_features\n",
    "\n",
    "sns.set_theme(palette='pastel')\n",
    "plt.rcParams['figure.figsize'] = (12, 6)\n",
    "pd.set_option('display.max_columns', None)"
   ]
  },
  {
   "cell_type": "markdown",
   "metadata": {},
   "source": [
    "# Complicaciones Quirúrgicas\n",
    "\n",
    "En este cuadernillo se quieren identificar y cuantificar las complicaciones quirúrgicas en el INT."
   ]
  },
  {
   "cell_type": "code",
   "execution_count": null,
   "metadata": {},
   "outputs": [],
   "source": [
    "RUTA_PABELLON = \"../data/external/datos_limpios_pabellon.csv\"\n",
    "\n",
    "# Leer y formatear datos de operaciones quirúrgicas\n",
    "df_pabellon = pd.read_csv(RUTA_PABELLON, encoding=\"latin-1\", sep=\";\")\n",
    "df_pabellon[\"fecha\"] = pd.to_datetime(df_pabellon[\"fecha\"])\n",
    "df_pabellon[\"duracion\"] = pd.to_timedelta(df_pabellon[\"duracion\"])\n",
    "\n",
    "# Limpiar datos de operaciones quirúrgicas\n",
    "df_pabellon_limpio = build_features.limpiar_datos_operaciones_quirurgicas(df_pabellon)\n",
    "df_pabellon_limpio = df_pabellon_limpio.reset_index(names=\"id_int_q\")"
   ]
  },
  {
   "cell_type": "code",
   "execution_count": null,
   "metadata": {},
   "outputs": [],
   "source": [
    "# Define las complicaciones a buscar\n",
    "a_buscar_operaciones = {\n",
    "    \"ecmo\": r\"ECMO\",\n",
    "    \"trasplantes\": r\"TRASPLANTE|TRANSPLANTE\",\n",
    "    \"aseos\": r\"ASEO\",\n",
    "    \"drenajes\": r\"DRENAJE\",\n",
    "    \"traqueostomias\": r\"TRAQUEOSTOMIA|TRAQUEOSTOMÍA\",\n",
    "    \"reintervenciones_reoperaciones\": r\"REINTERVENCION|REOPERACION|REINTERVENCIÓN|REOPERACIÓN\",\n",
    "}\n",
    "\n",
    "# Define los diagnosticos que son complicaciones\n",
    "a_buscar_diagnosticos = {\n",
    "    \"empiemas\": r\"EMPIEMA\"\n",
    "}"
   ]
  },
  {
   "cell_type": "code",
   "execution_count": null,
   "metadata": {},
   "outputs": [],
   "source": [
    "# Busca los nombres de las operaciones en la base de pabellon\n",
    "resultados_operaciones = build_features.iterar_en_complicaciones_a_buscar(\n",
    "    df_pabellon_limpio, a_buscar_operaciones, \"intervencion_quirurgica\"\n",
    ")\n",
    "\n",
    "# Busca los diagnosticos en el primer diagnostico y segundo\n",
    "resultados_diagnosticos = build_features.iterar_en_complicaciones_a_buscar(\n",
    "    df_pabellon_limpio, a_buscar_diagnosticos, \"diagnostico\"\n",
    ")"
   ]
  }
 ],
 "metadata": {
  "language_info": {
   "name": "python"
  }
 },
 "nbformat": 4,
 "nbformat_minor": 2
}
